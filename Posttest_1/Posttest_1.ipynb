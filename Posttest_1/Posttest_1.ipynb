{
  "cells": [
    {
      "cell_type": "markdown",
      "metadata": {
        "id": "pbJlKH_WeWxh"
      },
      "source": [
        "# Posttest 1 Script\n",
        "File .ipynb ini harus bisa dijalankan dalam virtual environment.\n",
        "**Jangan mengubah** apapun pada script ini. <br><br>\n",
        "Gunakan python versi 3.10.7"
      ]
    },
    {
      "cell_type": "markdown",
      "metadata": {
        "id": "BRcUpA-KeWxj"
      },
      "source": [
        "### Import Packaage\n",
        "Library yang digunakan adalah:\n",
        "- numpy         ==> 1.21.3\n",
        "- pandas        ==> 1.4.3\n",
        "- matplotlib    ==> 3.6.0rc2\n",
        "- prettytable   ==> 3.2.0\n",
        "- regex         ==> 2021.9.24"
      ]
    },
    {
      "cell_type": "code",
      "execution_count": 2,
      "metadata": {
        "id": "hYDN-09ieWxk"
      },
      "outputs": [],
      "source": [
        "import numpy as np\n",
        "import pandas as pd\n",
        "import matplotlib.pyplot as plt\n",
        "import prettytable as prtl\n",
        "import re"
      ]
    },
    {
      "cell_type": "markdown",
      "metadata": {
        "id": "AIOLwhpTeWxl"
      },
      "source": [
        "### Testing Function\n",
        "**Jangan diubah**"
      ]
    },
    {
      "cell_type": "code",
      "execution_count": null,
      "metadata": {
        "id": "G2RVTOrceWxl"
      },
      "outputs": [],
      "source": [
        "def error_raise(key, value):\n",
        "    \"\"\"Validate the package and version is correct. JANGAN DIUBAH\n",
        "\n",
        "    Args:\n",
        "        key (string): key in the dictionary dict_envi_info\n",
        "        value (string): values from one of the information stored in dictionary\n",
        "\n",
        "    Raises:\n",
        "        EnvironmentError: show the user that the script is error\n",
        "    \"\"\"\n",
        "    if key == 'python' and value == 'Python 3.10.7':\n",
        "        return\n",
        "    elif key == 'numpy' and value == 'Version: 1.21.3':\n",
        "        return\n",
        "    elif key == 'pandas' and value == 'Version: 1.4.3':\n",
        "        return\n",
        "    elif key == 'matplotlib' and value == 'Version: 3.6.0rc2':\n",
        "        return\n",
        "    elif key == 'prettytable' and value == 'Version: 3.2.0':\n",
        "        return\n",
        "    elif key == 'regex' and value == 'Version: 2021.9.24':\n",
        "        return\n",
        "    raise EnvironmentError(f'{key} have the wrong version')"
      ]
    },
    {
      "cell_type": "markdown",
      "metadata": {
        "id": "L8xjrSt4eWxl"
      },
      "source": [
        "### CMD in code command\n",
        "Bagian pengambilan informasi tentang environment kalian. <br>\n",
        "Biasanya lebih lama sedikit jalannya"
      ]
    },
    {
      "cell_type": "code",
      "execution_count": 1,
      "metadata": {
        "id": "gU1Q5mdxeWxl"
      },
      "outputs": [],
      "source": [
        "dict_envi_info = {}\n",
        "dict_envi_info['python']= !python --version\n",
        "dict_envi_info['numpy'] = !pip show numpy\n",
        "dict_envi_info['pandas'] = !pip show pandas\n",
        "dict_envi_info['matplotlib'] = !pip show matplotlib\n",
        "dict_envi_info['prettytable'] = !pip show prettytable\n",
        "dict_envi_info['regex'] = !pip show regex\n",
        "dict_envi_info['current directory'] = !cd"
      ]
    },
    {
      "cell_type": "markdown",
      "metadata": {
        "id": "hY5aUpEaeWxm"
      },
      "source": [
        "### Testing Part\n",
        "**Jangan diubah**"
      ]
    },
    {
      "cell_type": "code",
      "execution_count": null,
      "metadata": {
        "id": "rQuUVpr9eWxm",
        "outputId": "65e82c39-93b8-4654-b20f-da1b0a8969df"
      },
      "outputs": [
        {
          "name": "stdout",
          "output_type": "stream",
          "text": [
            "1. python\n",
            "Python 3.10.7\n",
            "2. numpy\n",
            "Version: 1.21.3\n",
            "3. pandas\n",
            "Version: 1.4.3\n",
            "4. matplotlib\n",
            "Version: 3.6.0rc2\n",
            "5. prettytable\n",
            "Version: 3.2.0\n",
            "6. regex\n",
            "Version: 2021.9.24\n",
            "7. current directory\n",
            "a:\\Programming\\Python\\Praktikum\n"
          ]
        }
      ],
      "source": [
        "temp_b = 1\n",
        "for keys, values in dict_envi_info.items():\n",
        "    print(f'{temp_b}. {keys}')\n",
        "    temp_b+=1\n",
        "\n",
        "    for index, value in enumerate(values):\n",
        "        if temp_b == 2:\n",
        "            print(f'{value}')\n",
        "            error_raise(keys, value)\n",
        "        elif re.match(r'^Version', value) is not None:\n",
        "            print(f'{value}')\n",
        "            error_raise(keys, value)\n",
        "        elif keys == 'current directory':\n",
        "            print(f'{value}')"
      ]
    },
    {
      "cell_type": "markdown",
      "metadata": {
        "id": "Vtuj77lReWxm"
      },
      "source": [
        "### Cek Part\n",
        "Tempat kalian melihat detail envi yang digunakan"
      ]
    },
    {
      "cell_type": "code",
      "execution_count": null,
      "metadata": {
        "id": "6r_prNLweWxn",
        "outputId": "5ccab911-9932-45f6-dc3d-56fab42561c6"
      },
      "outputs": [
        {
          "name": "stdout",
          "output_type": "stream",
          "text": [
            "1. python\n",
            "2. numpy\n",
            "3. pandas\n",
            "4. matplotlib\n",
            "5. prettytable\n",
            "6. regex\n",
            "\t Name: regex\n",
            "\t Version: 2021.9.24\n",
            "\t Summary: Alternative regular expression module, to replace re.\n",
            "\t Home-page: https://bitbucket.org/mrabarnett/mrab-regex\n",
            "\t Author: Matthew Barnett\n",
            "\t Author-email: regex@mrabarnett.plus.com\n",
            "\t License: Apache Software License\n",
            "\t Location: a:\\programming\\python\\praktikum\\venv_e1-19\\bugi_018\\lib\\site-packages\n",
            "\t Requires: \n",
            "\t Required-by: \n",
            "7. current directory\n"
          ]
        }
      ],
      "source": [
        "temp_a = 1\n",
        "key_cek = 'regex'   # bagian apa yang ingin dicek\n",
        "for key, values in dict_envi_info.items():\n",
        "    print(f'{temp_a}. {key}')\n",
        "    temp_a+=1\n",
        "    if key != key_cek:\n",
        "        continue\n",
        "    for value in values:\n",
        "        print('\\t', value)"
      ]
    }
  ],
  "metadata": {
    "kernelspec": {
      "display_name": "Bugi_018",
      "language": "python",
      "name": "bugi_018"
    },
    "language_info": {
      "codemirror_mode": {
        "name": "ipython",
        "version": 3
      },
      "file_extension": ".py",
      "mimetype": "text/x-python",
      "name": "python",
      "nbconvert_exporter": "python",
      "pygments_lexer": "ipython3",
      "version": "3.10.7"
    },
    "orig_nbformat": 4,
    "vscode": {
      "interpreter": {
        "hash": "732cc6cbfc5b39190a0bebc9fc045830b80fea9bbdf5357c8a13e3d604bac2e3"
      }
    },
    "colab": {
      "provenance": []
    }
  },
  "nbformat": 4,
  "nbformat_minor": 0
}